{
 "cells": [
  {
   "cell_type": "markdown",
   "id": "7870c231-ac27-4a96-b83e-ced78470dcd6",
   "metadata": {},
   "source": [
    "# Figures for my talk"
   ]
  },
  {
   "cell_type": "code",
   "execution_count": 17,
   "id": "bb1216f3-3420-4782-b41f-591c516ab67e",
   "metadata": {},
   "outputs": [],
   "source": [
    "import pathlib\n",
    "import astropy.units as u\n",
    "import astropy.table\n",
    "import sunpy.map\n",
    "import eispac.core\n",
    "import matplotlib.pyplot as plt\n",
    "import numpy as np\n",
    "\n",
    "from sunpy.coordinates import propagate_with_solar_surface\n",
    "\n",
    "from sunpy.net import attrs as a, Fido"
   ]
  },
  {
   "cell_type": "code",
   "execution_count": 26,
   "id": "71842fb3-872a-4699-bfd3-9f10775a7f91",
   "metadata": {},
   "outputs": [],
   "source": [
    "# Adjust this as needed\n",
    "root_dir = pathlib.Path('../')\n",
    "data_dir = root_dir / 'data'"
   ]
  },
  {
   "cell_type": "code",
   "execution_count": 27,
   "id": "b5f6f8da-d0db-4911-8fc5-62b50afb19c2",
   "metadata": {},
   "outputs": [],
   "source": [
    "ar_table = astropy.table.QTable.read(data_dir / 'tables' / 'mason_ars_region_1.asdf')"
   ]
  },
  {
   "cell_type": "markdown",
   "id": "7e9d9ca6-e8b7-47f3-adf9-2f7ac2590d0d",
   "metadata": {},
   "source": [
    "## AR Reference Figure"
   ]
  },
  {
   "cell_type": "code",
   "execution_count": 29,
   "id": "47491adb-723d-4594-b5ce-d5279321b6f8",
   "metadata": {},
   "outputs": [],
   "source": [
    "eis_maps = sunpy.map.Map(\n",
    "    [sorted((data_dir / f'noaa_{r[\"NOAA AR\"]}' / 'EIS' / 'level_2.5').glob('eis_*.fe_12_195_119.2c-0.int.fits'))\n",
    "     for r in ar_table]\n",
    ")"
   ]
  },
  {
   "cell_type": "code",
   "execution_count": 13,
   "id": "67ec1005-7ea0-4297-b26b-5cdc592c5415",
   "metadata": {},
   "outputs": [],
   "source": [
    "time_query = a.AttrOr(\n",
    "    [a.Time(r['Date start'],end=r['Date end'],near=m.date_average) for r,m in zip(ar_table, eis_maps)]\n",
    ")\n",
    "q = Fido.search(\n",
    "    time_query,\n",
    "    a.Instrument.aia,\n",
    "    a.Wavelength(171*u.AA),\n",
    ")"
   ]
  },
  {
   "cell_type": "code",
   "execution_count": 15,
   "id": "c02a77f4-fe0f-4d26-ba02-d3a53d47c6c3",
   "metadata": {},
   "outputs": [
    {
     "data": {
      "application/vnd.jupyter.widget-view+json": {
       "model_id": "0ae06afee61f4fc2855619a3bbb373d0",
       "version_major": 2,
       "version_minor": 0
      },
      "text/plain": [
       "Files Downloaded:   0%|          | 0/3 [00:00<?, ?file/s]"
      ]
     },
     "metadata": {},
     "output_type": "display_data"
    },
    {
     "data": {
      "application/vnd.jupyter.widget-view+json": {
       "model_id": "",
       "version_major": 2,
       "version_minor": 0
      },
      "text/plain": [
       "aia_lev1_171a_2014_03_02t00_20_13_41z_image_lev1.fits:   0%|          | 0.00/10.5M [00:00<?, ?B/s]"
      ]
     },
     "metadata": {},
     "output_type": "display_data"
    },
    {
     "data": {
      "application/vnd.jupyter.widget-view+json": {
       "model_id": "",
       "version_major": 2,
       "version_minor": 0
      },
      "text/plain": [
       "aia_lev1_171a_2014_01_08t10_59_23_34z_image_lev1.fits:   0%|          | 0.00/12.5M [00:00<?, ?B/s]"
      ]
     },
     "metadata": {},
     "output_type": "display_data"
    },
    {
     "data": {
      "application/vnd.jupyter.widget-view+json": {
       "model_id": "",
       "version_major": 2,
       "version_minor": 0
      },
      "text/plain": [
       "aia_lev1_171a_2014_02_03t10_33_23_34z_image_lev1.fits:   0%|          | 0.00/12.4M [00:00<?, ?B/s]"
      ]
     },
     "metadata": {},
     "output_type": "display_data"
    }
   ],
   "source": [
    "files = Fido.fetch(q, path='../data/')"
   ]
  },
  {
   "cell_type": "code",
   "execution_count": 16,
   "id": "8078faef-130e-451c-b529-e5024aaa2c5e",
   "metadata": {},
   "outputs": [],
   "source": [
    "aia_maps_fd = sunpy.map.Map('../data/aia_lev1_171a_*_image_lev1.fits')"
   ]
  },
  {
   "cell_type": "code",
   "execution_count": null,
   "id": "595125e3-6560-4050-9120-a05f66a7dadc",
   "metadata": {},
   "outputs": [],
   "source": []
  }
 ],
 "metadata": {
  "kernelspec": {
   "display_name": "Python [conda env:loops-2024-talk]",
   "language": "python",
   "name": "conda-env-loops-2024-talk-py"
  },
  "language_info": {
   "codemirror_mode": {
    "name": "ipython",
    "version": 3
   },
   "file_extension": ".py",
   "mimetype": "text/x-python",
   "name": "python",
   "nbconvert_exporter": "python",
   "pygments_lexer": "ipython3",
   "version": "3.12.3"
  }
 },
 "nbformat": 4,
 "nbformat_minor": 5
}
